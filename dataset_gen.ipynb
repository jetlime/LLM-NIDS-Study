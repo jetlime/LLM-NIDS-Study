{
 "cells": [
  {
   "cell_type": "markdown",
   "metadata": {},
   "source": [
    "# Dataset Preprocessing\n",
    "\n",
    "In this script, we undertake preprocessing of all standardized Netflow datasets (version 2), to render it compatible for analysis by Large Language Models. All datasets will be stored locally under the efficient streaming *arrow* format and published to Hugging Face as private datasets.\n",
    "\n",
    "The resulting datasets share a uniform structure with the following features:\n",
    "\n",
    "| Feature Name | Description|\n",
    "|------------------------------|-----------------------------------------------|\n",
    "|*input*                | A tabular netflow entry encoded as text using key-value pairs separated by commas to represent the feature name and value pairs. For instance, a network flow originally represented as a row within a CSV table is transformed into text as follows: ```IPV4_SRC_ADDR: 149.171.126.0 [...] TCP_FLAGS: 25, FLOW_DURATION_MILLISECONDS: 15\"```\n",
    "| *output*                | Label associated the with the network flows, 0 being benign and 1 malicious|"
   ]
  },
  {
   "cell_type": "code",
   "execution_count": 28,
   "metadata": {},
   "outputs": [],
   "source": [
    "from dotenv import load_dotenv\n",
    "from os import getenv, remove\n",
    "import pandas as pd\n",
    "from datasets import load_from_disk\n",
    "\n",
    "pd.set_option('display.max_rows', 500)\n",
    "pd.set_option('display.max_colwidth', 500)\n",
    "\n",
    "load_dotenv()\n",
    "HUGGING_FACE_WRITE_TOKEN = getenv(\"HUGGING_FACE_WRITE_TOKEN\")"
   ]
  },
  {
   "cell_type": "code",
   "execution_count": 6,
   "metadata": {},
   "outputs": [],
   "source": [
    "def push_dataset_to_hub(dataset, dataset_name):\n",
    "    dataset.push_to_hub(f\"Jetlime/{dataset_name}\", token=HUGGING_FACE_WRITE_TOKEN)"
   ]
  },
  {
   "cell_type": "markdown",
   "metadata": {},
   "source": [
    "## NF-UNSW-NB15-v2"
   ]
  },
  {
   "cell_type": "code",
   "execution_count": 13,
   "metadata": {},
   "outputs": [],
   "source": [
    "DATASET_NAME = \"NF-UNSW-NB15-v2\""
   ]
  },
  {
   "cell_type": "code",
   "execution_count": 25,
   "metadata": {},
   "outputs": [
    {
     "name": "stdout",
     "output_type": "stream",
     "text": [
      "Dask Apply: 100%|███████████████████████████████| 33/33 [01:47<00:00,  3.25s/it]\n",
      "Stringifying the column: 100%|█| 2390275/2390275 [00:03<00:00, 789112.42 example\n",
      "Casting to class labels: 100%|█| 2390275/2390275 [00:04<00:00, 594792.72 example\n",
      "Saving the dataset (4/4 shards): 100%|█| 1673192/1673192 [00:04<00:00, 336940.47\n",
      "Saving the dataset (2/2 shards): 100%|█| 717083/717083 [00:02<00:00, 349803.22 e\n"
     ]
    }
   ],
   "source": [
    "!python3 -W ignore ./dataset_gen_helper.py {DATASET_NAME}"
   ]
  },
  {
   "cell_type": "code",
   "execution_count": 29,
   "metadata": {},
   "outputs": [
    {
     "name": "stderr",
     "output_type": "stream",
     "text": [
      "Creating parquet from Arrow format: 100%|██████████| 419/419 [00:00<00:00, 947.16ba/s]\n",
      "Creating parquet from Arrow format: 100%|██████████| 419/419 [00:00<00:00, 1045.00ba/s]\n",
      "Creating parquet from Arrow format: 100%|██████████| 419/419 [00:00<00:00, 1068.09ba/s]\n",
      "Creating parquet from Arrow format: 100%|██████████| 419/419 [00:00<00:00, 1081.11ba/s]\n",
      "Uploading the dataset shards: 100%|██████████| 4/4 [00:03<00:00,  1.04it/s]\n",
      "Creating parquet from Arrow format: 100%|██████████| 359/359 [00:00<00:00, 1043.45ba/s]\n",
      "Creating parquet from Arrow format: 100%|██████████| 359/359 [00:00<00:00, 1041.47ba/s]\n",
      "Uploading the dataset shards: 100%|██████████| 2/2 [00:01<00:00,  1.16it/s]\n"
     ]
    }
   ],
   "source": [
    "dataset = load_from_disk(f\"./{DATASET_NAME}\", keep_in_memory=True)\n",
    "push_dataset_to_hub(dataset, DATASET_NAME)"
   ]
  },
  {
   "cell_type": "markdown",
   "metadata": {},
   "source": [
    "## NF-CSE-CIC-IDS2018-v2"
   ]
  },
  {
   "cell_type": "code",
   "execution_count": 32,
   "metadata": {},
   "outputs": [],
   "source": [
    "DATASET_NAME = \"NF-CSE-CIC-IDS2018-v2\""
   ]
  },
  {
   "cell_type": "code",
   "execution_count": 48,
   "metadata": {},
   "outputs": [],
   "source": [
    "!python3 -W ignore ./dataset_gen_helper.py {DATASET_NAME}"
   ]
  },
  {
   "cell_type": "code",
   "execution_count": 33,
   "metadata": {},
   "outputs": [
    {
     "ename": "FileNotFoundError",
     "evalue": "Directory ./NF-CSE-CIC-IDS2018-v2 not found",
     "output_type": "error",
     "traceback": [
      "\u001b[0;31m---------------------------------------------------------------------------\u001b[0m",
      "\u001b[0;31mFileNotFoundError\u001b[0m                         Traceback (most recent call last)",
      "Cell \u001b[0;32mIn[33], line 1\u001b[0m\n\u001b[0;32m----> 1\u001b[0m dataset \u001b[38;5;241m=\u001b[39m \u001b[43mload_from_disk\u001b[49m\u001b[43m(\u001b[49m\u001b[38;5;124;43mf\u001b[39;49m\u001b[38;5;124;43m\"\u001b[39;49m\u001b[38;5;124;43m./\u001b[39;49m\u001b[38;5;132;43;01m{\u001b[39;49;00m\u001b[43mDATASET_NAME\u001b[49m\u001b[38;5;132;43;01m}\u001b[39;49;00m\u001b[38;5;124;43m\"\u001b[39;49m\u001b[43m,\u001b[49m\u001b[43m \u001b[49m\u001b[43mkeep_in_memory\u001b[49m\u001b[38;5;241;43m=\u001b[39;49m\u001b[38;5;28;43;01mTrue\u001b[39;49;00m\u001b[43m)\u001b[49m\n\u001b[1;32m      2\u001b[0m push_dataset_to_hub(dataset, DATASET_NAME)\n",
      "File \u001b[0;32m~/.local/lib/python3.10/site-packages/datasets/load.py:2689\u001b[0m, in \u001b[0;36mload_from_disk\u001b[0;34m(dataset_path, fs, keep_in_memory, storage_options)\u001b[0m\n\u001b[1;32m   2687\u001b[0m fs, \u001b[38;5;241m*\u001b[39m_ \u001b[38;5;241m=\u001b[39m url_to_fs(dataset_path, \u001b[38;5;241m*\u001b[39m\u001b[38;5;241m*\u001b[39m(storage_options \u001b[38;5;129;01mor\u001b[39;00m {}))\n\u001b[1;32m   2688\u001b[0m \u001b[38;5;28;01mif\u001b[39;00m \u001b[38;5;129;01mnot\u001b[39;00m fs\u001b[38;5;241m.\u001b[39mexists(dataset_path):\n\u001b[0;32m-> 2689\u001b[0m     \u001b[38;5;28;01mraise\u001b[39;00m \u001b[38;5;167;01mFileNotFoundError\u001b[39;00m(\u001b[38;5;124mf\u001b[39m\u001b[38;5;124m\"\u001b[39m\u001b[38;5;124mDirectory \u001b[39m\u001b[38;5;132;01m{\u001b[39;00mdataset_path\u001b[38;5;132;01m}\u001b[39;00m\u001b[38;5;124m not found\u001b[39m\u001b[38;5;124m\"\u001b[39m)\n\u001b[1;32m   2690\u001b[0m \u001b[38;5;28;01mif\u001b[39;00m fs\u001b[38;5;241m.\u001b[39misfile(posixpath\u001b[38;5;241m.\u001b[39mjoin(dataset_path, config\u001b[38;5;241m.\u001b[39mDATASET_INFO_FILENAME)) \u001b[38;5;129;01mand\u001b[39;00m fs\u001b[38;5;241m.\u001b[39misfile(\n\u001b[1;32m   2691\u001b[0m     posixpath\u001b[38;5;241m.\u001b[39mjoin(dataset_path, config\u001b[38;5;241m.\u001b[39mDATASET_STATE_JSON_FILENAME)\n\u001b[1;32m   2692\u001b[0m ):\n\u001b[1;32m   2693\u001b[0m     \u001b[38;5;28;01mreturn\u001b[39;00m Dataset\u001b[38;5;241m.\u001b[39mload_from_disk(dataset_path, keep_in_memory\u001b[38;5;241m=\u001b[39mkeep_in_memory, storage_options\u001b[38;5;241m=\u001b[39mstorage_options)\n",
      "\u001b[0;31mFileNotFoundError\u001b[0m: Directory ./NF-CSE-CIC-IDS2018-v2 not found"
     ]
    }
   ],
   "source": [
    "dataset = load_from_disk(f\"./{DATASET_NAME}\", keep_in_memory=True)\n",
    "push_dataset_to_hub(dataset, DATASET_NAME)"
   ]
  },
  {
   "cell_type": "markdown",
   "metadata": {},
   "source": [
    "## NF-UQ-NIDS-v2 - Ignore for now"
   ]
  },
  {
   "cell_type": "code",
   "execution_count": null,
   "metadata": {},
   "outputs": [],
   "source": [
    "DATASET_NAME = \"NF-UQ-NIDS-v2\""
   ]
  },
  {
   "cell_type": "code",
   "execution_count": 37,
   "metadata": {},
   "outputs": [
    {
     "name": "stdout",
     "output_type": "stream",
     "text": [
      "Opening ./data_raw/NF-CSE-CIC-IDS2018-v2.csv\n",
      "Merging all columns in parralel.\n"
     ]
    }
   ],
   "source": [
    "!python3 -W ignore ./dataset_gen_helper.py {DATASET_NAME}"
   ]
  }
 ],
 "metadata": {
  "kernelspec": {
   "display_name": "Python 3",
   "language": "python",
   "name": "python3"
  },
  "language_info": {
   "codemirror_mode": {
    "name": "ipython",
    "version": 3
   },
   "file_extension": ".py",
   "mimetype": "text/x-python",
   "name": "python",
   "nbconvert_exporter": "python",
   "pygments_lexer": "ipython3",
   "version": "3.10.12"
  }
 },
 "nbformat": 4,
 "nbformat_minor": 2
}
